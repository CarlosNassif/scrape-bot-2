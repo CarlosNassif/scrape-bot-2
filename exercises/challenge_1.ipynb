{
 "cells": [
  {
   "cell_type": "markdown",
   "metadata": {},
   "source": [
    "# Imports"
   ]
  },
  {
   "cell_type": "code",
   "execution_count": 57,
   "metadata": {},
   "outputs": [],
   "source": [
    "import time\n",
    "import pandas as pd\n",
    "\n",
    "from bs4 import BeautifulSoup\n",
    "from selenium import webdriver"
   ]
  },
  {
   "cell_type": "markdown",
   "metadata": {},
   "source": [
    "## Get target page\n",
    "\n",
    "On this challenge we are meant to scrape info from \"http://webscraper.io/test-sites/tables\""
   ]
  },
  {
   "cell_type": "code",
   "execution_count": 2,
   "metadata": {},
   "outputs": [],
   "source": [
    "# Load selenium webdriver\n",
    "driver = webdriver.Chrome('C:\\Windows\\chromedriver\\chromedriver')\n",
    "\n",
    "# Load needed webpage\n",
    "URL_TO_BE_SCRAPED = \"http://webscraper.io/test-sites/tables\"\n",
    "driver.get(URL_TO_BE_SCRAPED)\n",
    "\n",
    "# Initialize soup\n",
    "soup2 = BeautifulSoup(driver.page_source, \"lxml\")\n",
    "\n",
    "# Close the driver\n",
    "driver.quit()"
   ]
  },
  {
   "cell_type": "markdown",
   "metadata": {},
   "source": [
    "### Scrape the information"
   ]
  },
  {
   "cell_type": "code",
   "execution_count": 59,
   "metadata": {},
   "outputs": [
    {
     "name": "stdout",
     "output_type": "stream",
     "text": [
      "\n",
      "Table with thead and tbody!\n",
      "\n",
      "Table with thead and tbody!\n",
      "\n",
      "Table with only tbody!\n",
      "\n",
      "Table with only tbody!\n",
      "merged_data ->  [['#', 'First Name', 'Last Name', 'Username'], ['1', 'Mark', 'Otto', '@mdo'], ['2', 'Jacob', 'Thornton', '@fat'], ['3', 'Larry', 'the Bird', '@twitter'], ['#', 'First Name', 'Last Name', 'Username'], ['4', 'Harry', 'Potter', '@hp'], ['5', 'John', 'Snow', '@dunno'], ['6', 'Tim', 'Bean', '@timbean'], ['#', 'First Name', 'Last Name', 'Username'], ['1', 'Mark', 'Otto', '@mdo'], ['2', 'Jacob', 'Thornton', '@fat'], ['3', 'Larry', 'the Bird', '@twitter'], ['Person', 'User data'], ['#', 'First Name', 'Last Name', 'Username'], ['-', '-', '-', '-'], ['1', 'Mark', 'Otto', '@mdo'], ['2', 'Jacob', 'Thornton', '@fat'], ['3', 'Larry', 'the Bird', '@twitter']]\n"
     ]
    }
   ],
   "source": [
    "tables = soup2.find_all(\"table\")\n",
    "merged_data = []\n",
    "for table in tables:\n",
    "    # check if table has thead and tbody:\n",
    "    if table.thead and table.tbody:\n",
    "        print('\\nTable with thead and tbody!')\n",
    "        try:\n",
    "            headers = []\n",
    "            for x in table.thead.contents:\n",
    "                if x.text.strip() != '':\n",
    "                    headers = [i.text.strip()\n",
    "                               for i in x.contents if i.text.strip() != '']\n",
    "            data = []\n",
    "            for x in table.tbody.contents:\n",
    "                if x.text.strip() != '':\n",
    "                    data.append([i.text.strip()\n",
    "                                 for i in x.contents if i.text.strip() != ''])\n",
    "            merged_data.append(headers)\n",
    "            for d in data:\n",
    "                merged_data.append(d)\n",
    "        except Exception as e:\n",
    "            print(str(e))\n",
    "            pass\n",
    "    # check if table has tbody:\n",
    "    elif table.tbody:\n",
    "        try:\n",
    "            print('\\nTable with only tbody!')\n",
    "            data = []\n",
    "            for x in table.tbody.contents:\n",
    "                if x.text.strip() != '':\n",
    "                    prev_data = [i.text.strip()\n",
    "                                for i in x.contents if i.text.strip() != '']\n",
    "                    data.append(prev_data)\n",
    "            for d in data:\n",
    "                merged_data.append(d)\n",
    "        except Exception as e:\n",
    "            print(str(e))\n",
    "            pass\n",
    "print('merged_data -> ', merged_data)\n"
   ]
  },
  {
   "cell_type": "code",
   "execution_count": 64,
   "metadata": {},
   "outputs": [
    {
     "data": {
      "text/html": [
       "<div>\n",
       "<style scoped>\n",
       "    .dataframe tbody tr th:only-of-type {\n",
       "        vertical-align: middle;\n",
       "    }\n",
       "\n",
       "    .dataframe tbody tr th {\n",
       "        vertical-align: top;\n",
       "    }\n",
       "\n",
       "    .dataframe thead th {\n",
       "        text-align: right;\n",
       "    }\n",
       "</style>\n",
       "<table border=\"1\" class=\"dataframe\">\n",
       "  <thead>\n",
       "    <tr style=\"text-align: right;\">\n",
       "      <th></th>\n",
       "      <th>0</th>\n",
       "      <th>1</th>\n",
       "      <th>2</th>\n",
       "      <th>3</th>\n",
       "    </tr>\n",
       "  </thead>\n",
       "  <tbody>\n",
       "    <tr>\n",
       "      <th>0</th>\n",
       "      <td>#</td>\n",
       "      <td>First Name</td>\n",
       "      <td>Last Name</td>\n",
       "      <td>Username</td>\n",
       "    </tr>\n",
       "    <tr>\n",
       "      <th>1</th>\n",
       "      <td>1</td>\n",
       "      <td>Mark</td>\n",
       "      <td>Otto</td>\n",
       "      <td>@mdo</td>\n",
       "    </tr>\n",
       "    <tr>\n",
       "      <th>2</th>\n",
       "      <td>2</td>\n",
       "      <td>Jacob</td>\n",
       "      <td>Thornton</td>\n",
       "      <td>@fat</td>\n",
       "    </tr>\n",
       "    <tr>\n",
       "      <th>3</th>\n",
       "      <td>3</td>\n",
       "      <td>Larry</td>\n",
       "      <td>the Bird</td>\n",
       "      <td>@twitter</td>\n",
       "    </tr>\n",
       "    <tr>\n",
       "      <th>5</th>\n",
       "      <td>4</td>\n",
       "      <td>Harry</td>\n",
       "      <td>Potter</td>\n",
       "      <td>@hp</td>\n",
       "    </tr>\n",
       "    <tr>\n",
       "      <th>6</th>\n",
       "      <td>5</td>\n",
       "      <td>John</td>\n",
       "      <td>Snow</td>\n",
       "      <td>@dunno</td>\n",
       "    </tr>\n",
       "    <tr>\n",
       "      <th>7</th>\n",
       "      <td>6</td>\n",
       "      <td>Tim</td>\n",
       "      <td>Bean</td>\n",
       "      <td>@timbean</td>\n",
       "    </tr>\n",
       "    <tr>\n",
       "      <th>12</th>\n",
       "      <td>Person</td>\n",
       "      <td>User data</td>\n",
       "      <td>None</td>\n",
       "      <td>None</td>\n",
       "    </tr>\n",
       "    <tr>\n",
       "      <th>14</th>\n",
       "      <td>-</td>\n",
       "      <td>-</td>\n",
       "      <td>-</td>\n",
       "      <td>-</td>\n",
       "    </tr>\n",
       "  </tbody>\n",
       "</table>\n",
       "</div>"
      ],
      "text/plain": [
       "         0           1          2         3\n",
       "0        #  First Name  Last Name  Username\n",
       "1        1        Mark       Otto      @mdo\n",
       "2        2       Jacob   Thornton      @fat\n",
       "3        3       Larry   the Bird  @twitter\n",
       "5        4       Harry     Potter       @hp\n",
       "6        5        John       Snow    @dunno\n",
       "7        6         Tim       Bean  @timbean\n",
       "12  Person   User data       None      None\n",
       "14       -           -          -         -"
      ]
     },
     "execution_count": 64,
     "metadata": {},
     "output_type": "execute_result"
    }
   ],
   "source": [
    "df = pd.DataFrame(merged_data)\n",
    "df = df.drop_duplicates()\n",
    "filename = str(time.time())\n",
    "df.to_csv(filename + '- challenge_1.csv')\n",
    "df"
   ]
  },
  {
   "cell_type": "markdown",
   "metadata": {},
   "source": [
    "### Conclusion\n",
    "\n",
    "Some pages can have a structure that causes errors. It's important to deal with them on the scrape block.\n",
    "\n",
    "Also, it's important to check multiple elements structure and deal with them."
   ]
  }
 ],
 "metadata": {
  "interpreter": {
   "hash": "07e668d6d3da57c6778a66c046b8fa891b47ad7a268abe45512bef617cc1d0d1"
  },
  "kernelspec": {
   "display_name": "Python 3.9.7 ('webscrape')",
   "language": "python",
   "name": "python3"
  },
  "language_info": {
   "codemirror_mode": {
    "name": "ipython",
    "version": 3
   },
   "file_extension": ".py",
   "mimetype": "text/x-python",
   "name": "python",
   "nbconvert_exporter": "python",
   "pygments_lexer": "ipython3",
   "version": "3.9.7"
  },
  "orig_nbformat": 4
 },
 "nbformat": 4,
 "nbformat_minor": 2
}
