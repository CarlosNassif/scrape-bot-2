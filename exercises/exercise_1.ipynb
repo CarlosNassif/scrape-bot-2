{
 "cells": [
  {
   "cell_type": "markdown",
   "metadata": {},
   "source": [
    "# Imports"
   ]
  },
  {
   "cell_type": "code",
   "execution_count": 1,
   "metadata": {},
   "outputs": [],
   "source": [
    "import time\n",
    "from bs4 import BeautifulSoup\n",
    "from selenium import webdriver"
   ]
  },
  {
   "cell_type": "markdown",
   "metadata": {},
   "source": [
    "## Get target page\n",
    "\n",
    "On this exercise we are meant to scrape info from \"https://finance.yahoo.com/quote/AAPL?p=AAPL\""
   ]
  },
  {
   "cell_type": "code",
   "execution_count": 4,
   "metadata": {},
   "outputs": [],
   "source": [
    "# Load selenium webdriver\n",
    "driver = webdriver.Chrome('C:\\Windows\\chromedriver\\chromedriver')\n",
    "\n",
    "# Load needed webpage\n",
    "URL_TO_BE_SCRAPED = \"https://finance.yahoo.com/quote/AAPL?p=AAPL\"\n",
    "driver.get(URL_TO_BE_SCRAPED)\n",
    "\n",
    "# Comparing two soups \n",
    "soup = BeautifulSoup(driver.page_source, features=\"html.parser\")\n",
    "soup2 = BeautifulSoup(driver.page_source, \"lxml\")\n",
    "\n",
    "driver.quit()"
   ]
  },
  {
   "cell_type": "markdown",
   "metadata": {},
   "source": [
    "### SOUP WITH `html.parser`"
   ]
  },
  {
   "cell_type": "code",
   "execution_count": 33,
   "metadata": {},
   "outputs": [
    {
     "name": "stdout",
     "output_type": "stream",
     "text": [
      "{'Previous Close': '172.68', 'Open': '171.68', 'Bid': '172.48 x 800', 'Ask': '172.54 x 800', \"Day's Range\": '170.68 - 174.10', '52 Week Range': '116.21 - 182.94', 'Volume': '82,465,400', 'Avg. Volume': '101,007,314', 'Market Cap': '2.813T', 'Beta (5Y Monthly)': '1.19', 'PE Ratio (TTM)': '28.66', 'EPS (TTM)': '6.01', 'Earnings Date': 'Apr 26, 2022 - May 02, 2022', 'Forward Dividend & Yield': '0.88 (0.51%)', 'Ex-Dividend Date': 'Feb 04, 2022', '1y Target Est': '190.29'}\n"
     ]
    }
   ],
   "source": [
    "tables_div = soup.find(id=\"quote-summary\")\n",
    "list_soup_1 = {}\n",
    "for x in tables_div.contents:\n",
    "    for y in x.table:\n",
    "        parent = y.tr.parent\n",
    "        for tr in parent.contents:\n",
    "            partial_list = []\n",
    "            for td in tr.contents:\n",
    "                partial_list.append(td.text)\n",
    "            list_soup_1[partial_list[0]] = partial_list[1]\n",
    "print(list_soup_1)\n"
   ]
  },
  {
   "cell_type": "markdown",
   "metadata": {},
   "source": [
    "### SOUP WITH `lxml`"
   ]
  },
  {
   "cell_type": "code",
   "execution_count": 37,
   "metadata": {},
   "outputs": [
    {
     "name": "stdout",
     "output_type": "stream",
     "text": [
      "{'Previous Close': '172.68', 'Open': '171.68', 'Bid': '172.48 x 800', 'Ask': '172.54 x 800', \"Day's Range\": '170.68 - 174.10', '52 Week Range': '116.21 - 182.94', 'Volume': '82,465,400', 'Avg. Volume': '101,007,314', 'Market Cap': '2.813T', 'Beta (5Y Monthly)': '1.19', 'PE Ratio (TTM)': '28.66', 'EPS (TTM)': '6.01', 'Earnings Date': 'Apr 26, 2022 - May 02, 2022', 'Forward Dividend & Yield': '0.88 (0.51%)', 'Ex-Dividend Date': 'Feb 04, 2022', '1y Target Est': '190.29'}\n"
     ]
    }
   ],
   "source": [
    "tables_div2 = soup2.find(id=\"quote-summary\")\n",
    "list_soup_2 = {}\n",
    "for x in tables_div2.contents:\n",
    "    for y in x.table:\n",
    "        parent = y.tr.parent\n",
    "        for tr in parent.contents:\n",
    "            partial_list = []\n",
    "            for td in tr.contents:\n",
    "                partial_list.append(td.text)\n",
    "            list_soup_2[partial_list[0]] = partial_list[1]\n",
    "print(list_soup_2)"
   ]
  },
  {
   "cell_type": "markdown",
   "metadata": {},
   "source": [
    "### Conclusion\n",
    "\n",
    "From the above results, we can affirm that there is no difference between the soups, considering the methods used. More tests will be needed to confirm that."
   ]
  }
 ],
 "metadata": {
  "interpreter": {
   "hash": "07e668d6d3da57c6778a66c046b8fa891b47ad7a268abe45512bef617cc1d0d1"
  },
  "kernelspec": {
   "display_name": "Python 3.9.7 ('webscrape')",
   "language": "python",
   "name": "python3"
  },
  "language_info": {
   "codemirror_mode": {
    "name": "ipython",
    "version": 3
   },
   "file_extension": ".py",
   "mimetype": "text/x-python",
   "name": "python",
   "nbconvert_exporter": "python",
   "pygments_lexer": "ipython3",
   "version": "3.9.7"
  },
  "orig_nbformat": 4
 },
 "nbformat": 4,
 "nbformat_minor": 2
}
