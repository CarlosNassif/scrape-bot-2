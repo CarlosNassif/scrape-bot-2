{
 "cells": [
  {
   "cell_type": "markdown",
   "metadata": {},
   "source": [
    "# Imports"
   ]
  },
  {
   "cell_type": "code",
   "execution_count": 2,
   "metadata": {},
   "outputs": [],
   "source": [
    "import time\n",
    "from bs4 import BeautifulSoup\n",
    "from selenium import webdriver"
   ]
  },
  {
   "cell_type": "markdown",
   "metadata": {},
   "source": [
    "## Get target page\n",
    "\n",
    "On this exercise we are meant to scrape info from \"https://en.wikipedia.org/wiki/List_of_S%26P_500_companies\""
   ]
  },
  {
   "cell_type": "code",
   "execution_count": 3,
   "metadata": {},
   "outputs": [],
   "source": [
    "# Load selenium webdriver\n",
    "driver = webdriver.Chrome('C:\\Windows\\chromedriver\\chromedriver')\n",
    "\n",
    "# Load needed webpage\n",
    "URL_TO_BE_SCRAPED = \"https://en.wikipedia.org/wiki/List_of_S%26P_500_companies\"\n",
    "driver.get(URL_TO_BE_SCRAPED)\n",
    "\n",
    "# Initialize soup\n",
    "soup2 = BeautifulSoup(driver.page_source, \"lxml\")\n",
    "\n",
    "# Close the driver\n",
    "driver.quit()"
   ]
  },
  {
   "cell_type": "markdown",
   "metadata": {},
   "source": [
    "### Scrape the information"
   ]
  },
  {
   "cell_type": "code",
   "execution_count": 37,
   "metadata": {},
   "outputs": [
    {
     "name": "stdout",
     "output_type": "stream",
     "text": [
      "[{'Symbol': 'MMM'}, {'Symbol': 'AOS'}, {'Symbol': 'ABT'}]\n"
     ]
    }
   ],
   "source": [
    "table = soup2.find(id=\"constituents\")\n",
    "header = table.thead.tr.th.text.strip()\n",
    "list_of_info_scraped = []\n",
    "for tr in table.tbody.contents:\n",
    "    info_scraped = {}\n",
    "    try:\n",
    "        info_scraped[header] = tr.td.text.strip()\n",
    "        list_of_info_scraped.append(info_scraped)\n",
    "    except:\n",
    "        pass\n",
    "print(list_of_info_scraped[0:3])"
   ]
  },
  {
   "cell_type": "markdown",
   "metadata": {},
   "source": [
    "### Conclusion\n",
    "\n",
    "Some pages can have a structure that causes errors. It's important to deal with them on the scrape block."
   ]
  }
 ],
 "metadata": {
  "interpreter": {
   "hash": "07e668d6d3da57c6778a66c046b8fa891b47ad7a268abe45512bef617cc1d0d1"
  },
  "kernelspec": {
   "display_name": "Python 3.9.7 ('webscrape')",
   "language": "python",
   "name": "python3"
  },
  "language_info": {
   "codemirror_mode": {
    "name": "ipython",
    "version": 3
   },
   "file_extension": ".py",
   "mimetype": "text/x-python",
   "name": "python",
   "nbconvert_exporter": "python",
   "pygments_lexer": "ipython3",
   "version": "3.9.7"
  },
  "orig_nbformat": 4
 },
 "nbformat": 4,
 "nbformat_minor": 2
}
